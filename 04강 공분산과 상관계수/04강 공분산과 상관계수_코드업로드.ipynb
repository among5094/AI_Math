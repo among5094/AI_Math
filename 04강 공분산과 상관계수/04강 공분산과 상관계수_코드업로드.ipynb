{
 "cells": [
  {
   "cell_type": "markdown",
   "id": "a6216dfb",
   "metadata": {},
   "source": [
    "## 공분산과 상관계수"
   ]
  },
  {
   "cell_type": "code",
   "execution_count": 15,
   "id": "e2672d37",
   "metadata": {},
   "outputs": [
    {
     "name": "stdout",
     "output_type": "stream",
     "text": [
      "랜덤 데이터 5개:  [55 19 75 74 84]\n",
      "공분산 출력:  [[1352.5 -753. ]\n",
      " [-753.  1348.8]]\n",
      "상관계수 출력:  1.0\n"
     ]
    }
   ],
   "source": [
    "import numpy as np\n",
    "\n",
    "#랜덤한 데이터 생성\n",
    "arr1 = np.random.randint(1,100,5) #1부터100까지 5개의 정수형 랜덤데이터\n",
    "print(\"랜덤 데이터 5개: \", arr1) #제대로 생성됐나 확인\n",
    "\n",
    "#공분산 출력\n",
    "arr1_cov = np.cov(arr1)\n",
    "print(\"공분산 출력: \", arr_cov)\n",
    "\n",
    "#상관계수 출력\n",
    "arr1_r = np.corrcoef(arr1)\n",
    "print(\"상관계수 출력: \",arr1_r)\n"
   ]
  }
 ],
 "metadata": {
  "kernelspec": {
   "display_name": "Python 3 (ipykernel)",
   "language": "python",
   "name": "python3"
  },
  "language_info": {
   "codemirror_mode": {
    "name": "ipython",
    "version": 3
   },
   "file_extension": ".py",
   "mimetype": "text/x-python",
   "name": "python",
   "nbconvert_exporter": "python",
   "pygments_lexer": "ipython3",
   "version": "3.10.9"
  }
 },
 "nbformat": 4,
 "nbformat_minor": 5
}
